{
 "cells": [
  {
   "cell_type": "code",
   "execution_count": 16,
   "id": "f626854a",
   "metadata": {},
   "outputs": [],
   "source": [
    "import random"
   ]
  },
  {
   "cell_type": "code",
   "execution_count": 14,
   "id": "864650fc",
   "metadata": {},
   "outputs": [],
   "source": [
    "CardList = [1, 2, 3, 4, 5, 6, 7, 8, 9, 10, 10, 10, 10]"
   ]
  },
  {
   "cell_type": "code",
   "execution_count": 15,
   "id": "5442f19c",
   "metadata": {},
   "outputs": [
    {
     "data": {
      "text/plain": [
       "[1, 2, 3, 4, 5, 6, 7, 8, 9, 10, 10, 10, 10]"
      ]
     },
     "execution_count": 15,
     "metadata": {},
     "output_type": "execute_result"
    }
   ],
   "source": [
    "CardList"
   ]
  },
  {
   "cell_type": "code",
   "execution_count": 46,
   "id": "4cbb698c",
   "metadata": {},
   "outputs": [
    {
     "data": {
      "text/plain": [
       "10"
      ]
     },
     "execution_count": 46,
     "metadata": {},
     "output_type": "execute_result"
    }
   ],
   "source": [
    "comp = random.choice(CardList)\n",
    "comp"
   ]
  },
  {
   "cell_type": "code",
   "execution_count": 118,
   "id": "fc5dcfb3",
   "metadata": {},
   "outputs": [
    {
     "name": "stdout",
     "output_type": "stream",
     "text": [
      "26731\n",
      "67870\n",
      "5399\n",
      "26.730999999999998\n"
     ]
    }
   ],
   "source": [
    "wins = 0\n",
    "losses = 0\n",
    "ties = 0\n",
    "ComputerScore = 0\n",
    "\n",
    "for i in range(100000):\n",
    "    Ran_Card_Player = random.choice(CardList)\n",
    "    PlayerScore = 16 + Ran_Card_Player\n",
    "    if PlayerScore > 21:\n",
    "        losses = losses + 1\n",
    "    else:\n",
    "        Ran_Comp_Card = random.choice(CardList)\n",
    "        ComputerScore = 7 + Ran_Comp_Card\n",
    "        while ComputerScore < 17:\n",
    "            Ran_Comp_Card = random.choice(CardList)\n",
    "            ComputerScore = ComputerScore + Ran_Comp_Card\n",
    "        if ComputerScore == PlayerScore:\n",
    "            ties = ties + 1\n",
    "        elif ComputerScore > 21 or ComputerScore < PlayerScore:\n",
    "            wins = wins + 1\n",
    "        else:\n",
    "            losses = losses + 1\n",
    "print(wins)\n",
    "print(losses)\n",
    "print(ties)\n",
    "winpercentage = wins / 100000 * 100\n",
    "print(winpercentage)"
   ]
  },
  {
   "cell_type": "code",
   "execution_count": 119,
   "id": "409ff834",
   "metadata": {},
   "outputs": [
    {
     "name": "stdout",
     "output_type": "stream",
     "text": [
      "28315\n",
      "71685\n",
      "28.315\n"
     ]
    }
   ],
   "source": [
    "wins = 0\n",
    "losses = 0\n",
    "ComputerScore = 0\n",
    "\n",
    "for i in range(100000):\n",
    "    PlayerScore = 16\n",
    "    Ran_Comp_Card = random.choice(CardList)\n",
    "    ComputerScore = 7 + Ran_Comp_Card\n",
    "    while ComputerScore < 17:\n",
    "        Ran_Comp_Card = random.choice(CardList)\n",
    "        ComputerScore = ComputerScore + Ran_Comp_Card\n",
    "    if ComputerScore == PlayerScore:\n",
    "        ties = ties + 1\n",
    "    elif ComputerScore > 21 or ComputerScore < PlayerScore:\n",
    "        wins = wins + 1\n",
    "    else:\n",
    "        losses = losses + 1\n",
    "print(wins)\n",
    "print(losses)\n",
    "winpercentage = wins / 100000 * 100\n",
    "print(winpercentage)"
   ]
  }
 ],
 "metadata": {
  "kernelspec": {
   "display_name": "mlenv",
   "language": "python",
   "name": "mlenv"
  },
  "language_info": {
   "codemirror_mode": {
    "name": "ipython",
    "version": 3
   },
   "file_extension": ".py",
   "mimetype": "text/x-python",
   "name": "python",
   "nbconvert_exporter": "python",
   "pygments_lexer": "ipython3",
   "version": "3.7.10"
  }
 },
 "nbformat": 4,
 "nbformat_minor": 5
}
